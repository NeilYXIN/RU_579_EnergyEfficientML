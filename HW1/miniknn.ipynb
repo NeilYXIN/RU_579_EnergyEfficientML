{
 "cells": [
  {
   "cell_type": "code",
   "execution_count": null,
   "metadata": {},
   "outputs": [],
   "source": [
    "import numpy as np\n",
    "import matplotlib as mpl\n",
    "mpl.use('Agg')\n",
    "import matplotlib.pyplot as plt\n",
    "\n"
   ]
  },
  {
   "cell_type": "code",
   "execution_count": null,
   "metadata": {},
   "outputs": [],
   "source": [
    "\n",
    "\n",
    "# load mini training data and labels\n",
    "mini_train = np.load('knn_minitrain.npy')\n",
    "mini_train_label = np.load('knn_minitrain_label.npy')\n",
    "\n",
    "# randomly generate test data\n",
    "mini_test = np.random.randint(20, size=20)\n",
    "mini_test = mini_test.reshape(10,2)\n",
    "\n"
   ]
  },
  {
   "cell_type": "code",
   "execution_count": null,
   "metadata": {},
   "outputs": [],
   "source": [
    "print(\"DATA\", mini_train)\n",
    "print(\"LABEL\",mini_train_label)\n",
    "\n",
    "def getL2Distance(pair1, pair2):\n",
    "    return np.sqrt(np.sum( np.power(np.subtract(pair1,pair2),2) ))\n",
    "\n",
    "def getMostCommon(labels):\n",
    "    \n",
    "\n",
    "# Define knn classifier\n",
    "def kNNClassify(newInput, dataSet, labels, k):\n",
    "    result=[]\n",
    "    ########################\n",
    "    # Input your code here #\n",
    "    ########################\n",
    "    for input in newInput:\n",
    "        distances=[]\n",
    "        for pair in dataSet:\n",
    "            distance=getL2Distance(input, pair)\n",
    "            distances.append(distance)\n",
    "        indices=np.array(distances).argsort()[:k]\n",
    "        print(\"INDICES\", indices)\n",
    "        \n",
    "        print(distances)\n",
    "        kLabels=labels[indices]\n",
    "        print(kLabels)\n",
    "\n",
    "    ####################\n",
    "    # End of your code #\n",
    "    ####################\n",
    "    return result\n",
    "\n"
   ]
  },
  {
   "cell_type": "code",
   "execution_count": null,
   "metadata": {},
   "outputs": [],
   "source": [
    "outputlabels=kNNClassify(mini_test,mini_train,mini_train_label,4)\n",
    "\n",
    "print ('random test points are:', mini_test)\n",
    "print ('knn classfied labels for test:', outputlabels)\n",
    "\n",
    "# plot train data and classfied test data\n",
    "train_x = mini_train[:,0]\n",
    "train_y = mini_train[:,1]\n",
    "fig = plt.figure()\n",
    "plt.scatter(train_x[np.where(mini_train_label==0)], train_y[np.where(mini_train_label==0)], color='red')\n",
    "plt.scatter(train_x[np.where(mini_train_label==1)], train_y[np.where(mini_train_label==1)], color='blue')\n",
    "plt.scatter(train_x[np.where(mini_train_label==2)], train_y[np.where(mini_train_label==2)], color='yellow')\n",
    "plt.scatter(train_x[np.where(mini_train_label==3)], train_y[np.where(mini_train_label==3)], color='black')\n",
    "\n",
    "test_x = mini_test[:,0]\n",
    "test_y = mini_test[:,1]\n",
    "outputlabels = np.array(outputlabels)\n",
    "plt.scatter(test_x[np.where(outputlabels==0)], test_y[np.where(outputlabels==0)], marker='^', color='red')\n",
    "plt.scatter(test_x[np.where(outputlabels==1)], test_y[np.where(outputlabels==1)], marker='^', color='blue')\n",
    "plt.scatter(test_x[np.where(outputlabels==2)], test_y[np.where(outputlabels==2)], marker='^', color='yellow')\n",
    "plt.scatter(test_x[np.where(outputlabels==3)], test_y[np.where(outputlabels==3)], marker='^', color='black')\n",
    "\n",
    "#save diagram as png file\n",
    "plt.savefig(\"miniknn.png\")\n"
   ]
  },
  {
   "cell_type": "code",
   "execution_count": null,
   "metadata": {},
   "outputs": [],
   "source": []
  },
  {
   "cell_type": "code",
   "execution_count": null,
   "metadata": {},
   "outputs": [],
   "source": []
  },
  {
   "cell_type": "code",
   "execution_count": null,
   "metadata": {},
   "outputs": [],
   "source": []
  }
 ],
 "metadata": {
  "kernelspec": {
   "display_name": "Python 3",
   "language": "python",
   "name": "python3"
  },
  "language_info": {
   "codemirror_mode": {
    "name": "ipython",
    "version": 3
   },
   "file_extension": ".py",
   "mimetype": "text/x-python",
   "name": "python",
   "nbconvert_exporter": "python",
   "pygments_lexer": "ipython3",
   "version": "3.7.0"
  }
 },
 "nbformat": 4,
 "nbformat_minor": 2
}
