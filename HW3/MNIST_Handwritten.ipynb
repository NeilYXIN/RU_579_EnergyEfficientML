{
 "cells": [
  {
   "cell_type": "code",
   "execution_count": 5,
   "metadata": {},
   "outputs": [],
   "source": [
    "import math\n",
    "import numpy as np  \n",
    "import operator  \n",
    "import time"
   ]
  },
  {
   "cell_type": "code",
   "execution_count": 6,
   "metadata": {},
   "outputs": [],
   "source": [
    "import pickle\n",
    "def load():\n",
    "    with open(\"mnist.pkl\",'rb') as f:\n",
    "        mnist = pickle.load(f)\n",
    "    return mnist[\"training_images\"], mnist[\"training_labels\"], mnist[\"test_images\"], mnist[\"test_labels\"]"
   ]
  },
  {
   "cell_type": "code",
   "execution_count": 7,
   "metadata": {},
   "outputs": [],
   "source": [
    "class_nums=10\n",
    "x_train, y_train, x_test, y_test = load()\n",
    "#x_train = x_train.reshape(60000,28,28)\n",
    "#x_test  = x_test.reshape(10000,28,28)"
   ]
  },
  {
   "cell_type": "code",
   "execution_count": 8,
   "metadata": {},
   "outputs": [],
   "source": [
    "def one_hot_encoder(labels, class_nums=class_nums):\n",
    "    one_hot=np.zeros([len(labels), class_nums])\n",
    "    for i in range(len(labels)):\n",
    "        one_hot[i][labels[i]] = 1\n",
    "    return one_hot"
   ]
  },
  {
   "cell_type": "code",
   "execution_count": 9,
   "metadata": {},
   "outputs": [],
   "source": [
    "y_train_one_hot = one_hot_encoder(y_train)\n",
    "y_test_one_hot = one_hot_encoder(y_test)"
   ]
  },
  {
   "cell_type": "code",
   "execution_count": 10,
   "metadata": {},
   "outputs": [],
   "source": [
    "def relu(data_input, back=False, grad_out=0):\n",
    "    if back==False:\n",
    "        return max(0, data_input)\n",
    "    else:\n",
    "        relu_grad = data_input>0\n",
    "        return grad_out*relu_grad"
   ]
  },
  {
   "cell_type": "code",
   "execution_count": 15,
   "metadata": {},
   "outputs": [],
   "source": [
    "num_neurons_weights=[784, 200, 50, 10]\n",
    "weights=[]\n",
    "biases=[]\n",
    "for i in range(len(num_neurons_weights) - 1):\n",
    "    weights.append(np.random.randn(num_neurons_weights[i], num_neurons_weights[i+1])*0.01)\n",
    "    \n",
    "for i in range(len(num_neurons_weights) - 1):\n",
    "    biases.append(np.zeros(num_neurons_weights[i+1]))\n"
   ]
  },
  {
   "cell_type": "code",
   "execution_count": 12,
   "metadata": {},
   "outputs": [],
   "source": [
    "def forward_prop(weights, data, biases):\n",
    "    return np.dot(weights, data) + biases"
   ]
  },
  {
   "cell_type": "code",
   "execution_count": 13,
   "metadata": {},
   "outputs": [],
   "source": [
    "def back_prop(weights, data, biases, grad_output):\n",
    "    grad_input = np.dot(grad_output, weights.T)\n",
    "    grad_weights = np.dot(data.T,grad_output)/data.shape[0]\n",
    "    grad_biases = grad_output.mean(axis=0)\n",
    "    weights = weights - learning_rate*grad_weights\n",
    "    biases = biases - learning_rate*grad_biases\n",
    "    return grad_input"
   ]
  },
  {
   "cell_type": "code",
   "execution_count": null,
   "metadata": {},
   "outputs": [],
   "source": []
  },
  {
   "cell_type": "code",
   "execution_count": null,
   "metadata": {},
   "outputs": [],
   "source": []
  },
  {
   "cell_type": "code",
   "execution_count": null,
   "metadata": {},
   "outputs": [],
   "source": []
  },
  {
   "cell_type": "code",
   "execution_count": null,
   "metadata": {},
   "outputs": [],
   "source": []
  }
 ],
 "metadata": {
  "kernelspec": {
   "display_name": "Python 3",
   "language": "python",
   "name": "python3"
  },
  "language_info": {
   "codemirror_mode": {
    "name": "ipython",
    "version": 3
   },
   "file_extension": ".py",
   "mimetype": "text/x-python",
   "name": "python",
   "nbconvert_exporter": "python",
   "pygments_lexer": "ipython3",
   "version": "3.7.0"
  }
 },
 "nbformat": 4,
 "nbformat_minor": 2
}
