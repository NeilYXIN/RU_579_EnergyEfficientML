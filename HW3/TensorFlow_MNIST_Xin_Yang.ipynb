{
 "cells": [
  {
   "cell_type": "code",
   "execution_count": 1,
   "metadata": {},
   "outputs": [],
   "source": [
    "import pandas as pd\n",
    "import math\n",
    "import numpy as np  \n",
    "import operator  \n",
    "import time\n",
    "import tensorflow as tf"
   ]
  },
  {
   "cell_type": "code",
   "execution_count": 2,
   "metadata": {},
   "outputs": [],
   "source": [
    "import pickle\n",
    "def load():\n",
    "    with open(\"mnist.pkl\",'rb') as f:\n",
    "        mnist = pickle.load(f)\n",
    "    return mnist[\"training_images\"], mnist[\"training_labels\"], mnist[\"test_images\"], mnist[\"test_labels\"]"
   ]
  },
  {
   "cell_type": "code",
   "execution_count": 3,
   "metadata": {},
   "outputs": [],
   "source": [
    "def one_hot_encoder(labels, class_nums=10):\n",
    "    one_hot=np.zeros([len(labels), class_nums])\n",
    "    for i in range(len(labels)):\n",
    "        one_hot[i][labels[i]] = 1\n",
    "    return one_hot"
   ]
  },
  {
   "cell_type": "code",
   "execution_count": 4,
   "metadata": {},
   "outputs": [],
   "source": [
    "x_train, y_train, x_test, y_test = load()\n",
    "x_train=x_train/255\n",
    "x_test=x_test/255"
   ]
  },
  {
   "cell_type": "code",
   "execution_count": 5,
   "metadata": {},
   "outputs": [],
   "source": [
    "y_train_one_hot = one_hot_encoder(y_train)\n",
    "y_test_one_hot = one_hot_encoder(y_test)"
   ]
  },
  {
   "cell_type": "code",
   "execution_count": 6,
   "metadata": {},
   "outputs": [],
   "source": [
    "def next_batch(train_x, train_y, batch_size, counter):\n",
    "    batch_x = []\n",
    "    batch_y = []\n",
    "    rand_indices = []\n",
    "    if len(train_x)-np.sum(counter) <= batch_size:\n",
    "        for i in range(len(counter)):\n",
    "            if counter[i]==0:\n",
    "                rand_indices.append(i)\n",
    "                counter[i]=1\n",
    "    else:      \n",
    "        while len(rand_indices) != batch_size:\n",
    "            tmp=np.random.randint(0,len(train_x) - 1)\n",
    "            if counter[tmp]==1:\n",
    "                continue\n",
    "            else:\n",
    "                rand_indices.append(tmp)\n",
    "                counter[tmp]=1\n",
    "#     print(\"rand indices\" , rand_indices)\n",
    "    for index in rand_indices:\n",
    "        batch_x.append(train_x[index])\n",
    "        batch_y.append(train_y[index])\n",
    "    return np.array(batch_x), np.array(batch_y),counter"
   ]
  },
  {
   "cell_type": "code",
   "execution_count": null,
   "metadata": {},
   "outputs": [],
   "source": []
  },
  {
   "cell_type": "code",
   "execution_count": 8,
   "metadata": {},
   "outputs": [
    {
     "name": "stdout",
     "output_type": "stream",
     "text": [
      "name: \"train_step/GradientDescent\"\n",
      "op: \"NoOp\"\n",
      "input: \"^train_step/GradientDescent/update_hidden_layer_1/W1/Variable/ApplyGradientDescent\"\n",
      "input: \"^train_step/GradientDescent/update_hidden_layer_1/b1/Variable/ApplyGradientDescent\"\n",
      "input: \"^train_step/GradientDescent/update_hidden_layer_2/W2/Variable/ApplyGradientDescent\"\n",
      "input: \"^train_step/GradientDescent/update_hidden_layer_2/b2/Variable/ApplyGradientDescent\"\n",
      "input: \"^train_step/GradientDescent/update_output_layer/W/Variable/ApplyGradientDescent\"\n",
      "input: \"^train_step/GradientDescent/update_output_layer/b/Variable/ApplyGradientDescent\"\n",
      "\n"
     ]
    }
   ],
   "source": [
    "class_num = 10\n",
    "n_hidden_units_one = 200\n",
    "n_hidden_units_two = 50\n",
    "\n",
    "learning_rate = 0.01\n",
    "n_dim = x_train.shape[1]\n",
    "\n",
    "# Input Layer\n",
    "with tf.name_scope('input'):\n",
    "    x = tf.placeholder(tf.float32, shape=[None, n_dim],name='x_input')\n",
    "    y_true = tf.placeholder(tf.float32, [None,class_num],name='y_input')\n",
    "\n",
    "# Hidden Layers\n",
    "with tf.name_scope('hidden_layer_1'):\n",
    "    with tf.name_scope('W1'):\n",
    "        W_1 = tf.Variable(tf.truncated_normal([n_dim,n_hidden_units_one], stddev=0.1, name='Weights'))\n",
    "    with tf.name_scope('b1'):\n",
    "        b_1 = tf.Variable(tf.constant(0.1, shape=[n_hidden_units_one], name='biases'))\n",
    "    with tf.name_scope('h1'):\n",
    "        h_1 = tf.nn.relu(tf.matmul(x, W_1) + b_1, name='output')\n",
    "\n",
    "with tf.name_scope('hidden_layer_2'):\n",
    "    with tf.name_scope('W2'):\n",
    "        W_2 = tf.Variable(tf.truncated_normal([n_hidden_units_one,n_hidden_units_two], stddev=0.1, name='Weights'))\n",
    "    with tf.name_scope('b2'):\n",
    "        b_2 = tf.Variable(tf.constant(0.1, shape=[n_hidden_units_two], name='biases'))\n",
    "    with tf.name_scope('h2'):\n",
    "        h_2 = tf.nn.relu(tf.matmul(h_1, W_2) + b_2, name='output')\n",
    "        \n",
    "# Output Layer\n",
    "with tf.name_scope('output_layer'):\n",
    "    with tf.name_scope('W'):\n",
    "        W = tf.Variable(tf.truncated_normal([n_hidden_units_two,class_num], stddev=0.1, name='Weights'))\n",
    "    with tf.name_scope('b'):\n",
    "        b = tf.Variable(tf.constant(0.1, shape=[class_num], name='biases'))\n",
    "    with tf.name_scope('output'):\n",
    "        y = tf.nn.softmax(tf.matmul(h_2, W) + b, name='output')\n",
    "\n",
    "# Cost Function\n",
    "with tf.name_scope('loss'):\n",
    "    cross_entropy = -tf.reduce_sum(y_true*tf.log(tf.clip_by_value(y, 1e-10, 1.0)))\n",
    "\n",
    "with tf.name_scope('train_step'):\n",
    "    train_step = tf.train.GradientDescentOptimizer(learning_rate).minimize(cross_entropy)\n",
    "    print(train_step)"
   ]
  },
  {
   "cell_type": "code",
   "execution_count": 9,
   "metadata": {},
   "outputs": [],
   "source": [
    "from tensorflow.python.framework import graph_util\n",
    "import datetime\n"
   ]
  },
  {
   "cell_type": "code",
   "execution_count": 10,
   "metadata": {},
   "outputs": [
    {
     "name": "stdout",
     "output_type": "stream",
     "text": [
      "epoch 0\n",
      "Step 0\n",
      "Train Accuracy:0.21875 \n",
      "\n",
      "Step 300\n",
      "Train Accuracy:0.765625 \n",
      "\n",
      "epoch 1\n",
      "Step 0\n",
      "Train Accuracy:0.984375 \n",
      "\n",
      "Step 300\n",
      "Train Accuracy:0.984375 \n",
      "\n",
      "epoch 2\n",
      "Step 0\n",
      "Train Accuracy:0.9765625 \n",
      "\n",
      "Step 300\n",
      "Train Accuracy:0.9921875 \n",
      "\n",
      "epoch 3\n",
      "Step 0\n",
      "Train Accuracy:1.0 \n",
      "\n",
      "Step 300\n",
      "Train Accuracy:1.0 \n",
      "\n",
      "epoch 4\n",
      "Step 0\n",
      "Train Accuracy:0.9921875 \n",
      "\n",
      "Step 300\n",
      "Train Accuracy:1.0 \n",
      "\n",
      "Training Time: 6 s\n",
      "Test Accuracy:0.9606999754905701 \n",
      "\n"
     ]
    }
   ],
   "source": [
    "sess = tf.InteractiveSession()\n",
    "init = tf.global_variables_initializer()\n",
    "sess.run(init)\n",
    "epoch_num=5\n",
    "batch_size=128\n",
    "starttime = datetime.datetime.now()\n",
    "\n",
    "for i in range(epoch_num):   \n",
    "    print(\"epoch\", i)\n",
    "    counter=np.zeros(x_train.shape[0])\n",
    "    step=0\n",
    "    while np.sum(counter) < len(x_train):\n",
    "        batch_x, batch_y,counter = next_batch(x_train, y_train_one_hot, batch_size, counter)\n",
    "\n",
    "        train_step.run({x:batch_x, y_true:batch_y})\n",
    "        if step%300==0:\n",
    "            pre_num=tf.argmax(y,1,output_type='int32',name='output')\n",
    "            correct_prediction = tf.equal(pre_num,tf.argmax(y_true,1,output_type='int32'))\n",
    "            accuracy = tf.reduce_mean(tf.cast(correct_prediction,tf.float32))\n",
    "            a_t = accuracy.eval({x:batch_x,y_true:batch_y})\n",
    "            print('Step', step)\n",
    "            print('Train Accuracy:{0}'.format(a_t),'\\n')\n",
    "            \n",
    "        step+=1\n",
    "\n",
    "endtime = datetime.datetime.now()\n",
    "print (\"Training Time:\", (endtime - starttime).seconds,'s')\n",
    "a = accuracy.eval({x:x_test,y_true:y_test_one_hot})\n",
    "print('Test Accuracy:{0}'.format(a),'\\n')\n",
    "sess.close()"
   ]
  },
  {
   "cell_type": "code",
   "execution_count": null,
   "metadata": {},
   "outputs": [],
   "source": []
  }
 ],
 "metadata": {
  "kernelspec": {
   "display_name": "Python 3",
   "language": "python",
   "name": "python3"
  },
  "language_info": {
   "codemirror_mode": {
    "name": "ipython",
    "version": 3
   },
   "file_extension": ".py",
   "mimetype": "text/x-python",
   "name": "python",
   "nbconvert_exporter": "python",
   "pygments_lexer": "ipython3",
   "version": "3.7.0"
  }
 },
 "nbformat": 4,
 "nbformat_minor": 2
}
