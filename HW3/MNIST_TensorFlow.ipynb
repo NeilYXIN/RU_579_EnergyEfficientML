{
 "cells": [
  {
   "cell_type": "code",
   "execution_count": null,
   "metadata": {},
   "outputs": [],
   "source": []
  },
  {
   "cell_type": "code",
   "execution_count": null,
   "metadata": {},
   "outputs": [],
   "source": []
  },
  {
   "cell_type": "code",
   "execution_count": null,
   "metadata": {},
   "outputs": [],
   "source": [
    "train_test_split = np.random.rand(len(features)) < 0.70 # randomly divide training sets and test sets\n",
    "train_x = features[train_test_split]\n",
    "train_y = labels[train_test_split]\n",
    "test_x = features[~train_test_split]\n",
    "test_y = labels[~train_test_split]"
   ]
  },
  {
   "cell_type": "code",
   "execution_count": null,
   "metadata": {},
   "outputs": [],
   "source": [
    "class_num = label_num\n",
    "n_hidden_units_one = 200\n",
    "n_hidden_units_two = 50\n",
    "#30/20 for 9 points fft\n",
    "#120/60 for 16 fft\n",
    "#200/100 for 16 light + heavy fft\n",
    "\n",
    "# n_hidden_units_three = 80\n",
    "learning_rate = 0.01\n",
    "n_dim = features.shape[1]\n",
    "sd = 1/np.sqrt(n_dim)\n",
    "\n",
    "# Input Layer\n",
    "with tf.name_scope('input'):\n",
    "    x = tf.placeholder(tf.float32, shape=[None, n_dim],name='x_input')\n",
    "    y_true = tf.placeholder(tf.float32, [None,class_num],name='y_input')\n",
    "\n",
    "# Hidden Layers\n",
    "with tf.name_scope('hidden_layer_1'):\n",
    "    with tf.name_scope('W1'):\n",
    "        W_1 = tf.Variable(tf.random_normal([n_dim,n_hidden_units_one], mean=0, stddev=sd, name='Weights'))\n",
    "    with tf.name_scope('b1'):\n",
    "        b_1 = tf.Variable(tf.random_normal([n_hidden_units_one], mean=0, stddev=sd, name='biases'))\n",
    "    with tf.name_scope('h1'):\n",
    "        h_1 = tf.nn.tanh(tf.matmul(x, W_1) + b_1, name='output')\n",
    "\n",
    "with tf.name_scope('hidden_layer_2'):\n",
    "    with tf.name_scope('W2'):\n",
    "        W_2 = tf.Variable(tf.random_normal([n_hidden_units_one,n_hidden_units_two], mean=0, stddev=sd, name='Weights'))\n",
    "    with tf.name_scope('b2'):\n",
    "        b_2 = tf.Variable(tf.random_normal([n_hidden_units_two], mean=0, stddev=sd, name='biases'))\n",
    "    with tf.name_scope('h2'):\n",
    "        h_2 = tf.nn.sigmoid(tf.matmul(h_1, W_2) + b_2, name='output')\n",
    "        \n",
    "# with tf.name_scope('hideen_layer_3'):\n",
    "#     with tf.name_scope('W3'):\n",
    "#         W_3 = tf.Variable(tf.random_normal([n_hidden_units_two,n_hidden_units_three], mean=0, stddev=sd, name='Weights'))\n",
    "#     with tf.name_scope('b3'):\n",
    "#         b_3 = tf.Variable(tf.random_normal([n_hidden_units_three], mean=0, stddev=sd, name='biases'))\n",
    "#     with tf.name_scope('h3'):\n",
    "#         h_3 = tf.nn.sigmoid(tf.matmul(h_2, W_3) + b_3, name='output')\n",
    "\n",
    "# Output Layer\n",
    "with tf.name_scope('output_layer'):\n",
    "    with tf.name_scope('W'):\n",
    "        W = tf.Variable(tf.random_normal([n_hidden_units_two,class_num], mean=0, stddev=sd, name='Weights'))\n",
    "    with tf.name_scope('b'):\n",
    "        b = tf.Variable(tf.random_normal([class_num], mean=0, stddev=sd, name='biases'))\n",
    "    with tf.name_scope('output'):\n",
    "        y = tf.nn.softmax(tf.matmul(h_2, W) + b, name='output')\n",
    "\n",
    "# Cost Function\n",
    "with tf.name_scope('loss'):\n",
    "    cross_entropy = tf.reduce_mean(-tf.reduce_sum(y_true*tf.log(y), reduction_indices=[1]))\n",
    "#     cross_entropy = tf.reduce_mean(tf.nn.softmax_cross_entropy_with_logits(labels=y_true, logits=y))\n",
    "with tf.name_scope('train_step'):\n",
    "    train_step = tf.train.AdamOptimizer(learning_rate).minimize(cross_entropy)\n",
    "    print(train_step)"
   ]
  },
  {
   "cell_type": "code",
   "execution_count": null,
   "metadata": {},
   "outputs": [],
   "source": [
    "from tensorflow.python.framework import graph_util"
   ]
  },
  {
   "cell_type": "code",
   "execution_count": null,
   "metadata": {},
   "outputs": [],
   "source": [
    "sess = tf.InteractiveSession()\n",
    "init = tf.global_variables_initializer()\n",
    "sess.run(init)\n",
    "    \n",
    "for step in range(200):\n",
    "    batch_x, batch_y = train_x,train_y\n",
    "    train_step.run({x:batch_x, y_true:batch_y})\n",
    "    if step%10==0:\n",
    "#         y_res = tf.identity(y,name='y_prediction') # Output\n",
    "        pre_num=tf.argmax(y,1,output_type='int32',name='output')\n",
    "        correct_prediction = tf.equal(pre_num,tf.argmax(y_true,1,output_type='int32'))\n",
    "        accuracy = tf.reduce_mean(tf.cast(correct_prediction,tf.float32))\n",
    "        a = accuracy.eval({x:test_x,y_true:test_y})\n",
    "        print('Accuracy：{0}'.format(a))\n",
    "        \n",
    "output_graph_def = graph_util.convert_variables_to_constants(sess, sess.graph_def,output_node_names=['output_layer/output/output'])\n",
    "with tf.gfile.FastGFile('../../data/VibAuthModel.pb', mode='wb') as f:\n",
    "    f.write(output_graph_def.SerializeToString())\n",
    "sess.close()"
   ]
  }
 ],
 "metadata": {
  "kernelspec": {
   "display_name": "Python 3",
   "language": "python",
   "name": "python3"
  },
  "language_info": {
   "codemirror_mode": {
    "name": "ipython",
    "version": 3
   },
   "file_extension": ".py",
   "mimetype": "text/x-python",
   "name": "python",
   "nbconvert_exporter": "python",
   "pygments_lexer": "ipython3",
   "version": "3.5.2"
  }
 },
 "nbformat": 4,
 "nbformat_minor": 2
}
